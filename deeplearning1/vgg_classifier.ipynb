{
 "cells": [
  {
   "cell_type": "code",
   "execution_count": 1,
   "metadata": {
    "scrolled": true
   },
   "outputs": [
    {
     "name": "stderr",
     "output_type": "stream",
     "text": [
      "Using Theano backend.\n",
      "Using cuDNN version 5103 on context None\n",
      "Mapped name None to device cuda: Quadro P4000 (0000:00:05.0)\n"
     ]
    }
   ],
   "source": [
    "import numpy as np\n",
    "from numpy.random import random, permutation\n",
    "from scipy import misc, ndimage\n",
    "from scipy.ndimage.interpolation import zoom\n",
    "import pandas as pd\n",
    "import keras\n",
    "from keras import backend as K\n",
    "from keras.utils.data_utils import get_file\n",
    "from keras.models import Sequential, Model\n",
    "from keras.layers.core import Flatten, Dense, Dropout, Lambda\n",
    "from keras.layers import Input\n",
    "from keras.layers.convolutional import Convolution2D, MaxPooling2D, ZeroPadding2D\n",
    "from keras.optimizers import SGD, RMSprop, Adam\n",
    "from keras.preprocessing import image\n",
    "import json\n",
    "import os"
   ]
  },
  {
   "cell_type": "code",
   "execution_count": 2,
   "metadata": {},
   "outputs": [],
   "source": [
    "def ConvBlock(filters, model, layers):\n",
    "    for i in range(layers):\n",
    "        model.add(ZeroPadding2D((1,1)))\n",
    "        model.add(Convolution2D(filters, 3, 3, activation='relu'))\n",
    "    model.add(MaxPooling2D((2,2), strides=(2,2)))"
   ]
  },
  {
   "cell_type": "code",
   "execution_count": 3,
   "metadata": {},
   "outputs": [],
   "source": [
    "def FullyConnectedLayer(model):\n",
    "    model.add(Dense(4096, activation='relu'))\n",
    "    model.add(Dropout(0.5))"
   ]
  },
  {
   "cell_type": "code",
   "execution_count": 4,
   "metadata": {},
   "outputs": [],
   "source": [
    "vgg_mean = np.array([123.68, 116.779, 103.939]).reshape((3,1,1))\n",
    "def preprocess(x):\n",
    "    x = x - vgg_mean     # subtract mean\n",
    "    return x[:, ::-1]"
   ]
  },
  {
   "cell_type": "code",
   "execution_count": 5,
   "metadata": {},
   "outputs": [],
   "source": [
    "def ft(model, num):\n",
    "    model.pop()\n",
    "    for layer in model.layers: layer.trainable=False\n",
    "    model.add(Dense(num, activation='softmax'))\n",
    "    model = compile(model)\n",
    "    return model\n",
    "\n",
    "def finetune(model, batches):\n",
    "    model = ft(model, batches.nb_class)\n",
    "    classes = list(iter(batches.class_indices)) # get a list of all the class labels\n",
    "    for c in batches.class_indices:\n",
    "        classes[batches.class_indices[c]] = c\n",
    "    return model, classes\n",
    "\n",
    "\n",
    "def compile(model, lr=0.001):\n",
    "    model.compile(optimizer=Adam(lr=lr),\n",
    "            loss='categorical_crossentropy', metrics=['accuracy'])\n",
    "    return model\n",
    "\n",
    "def fit(model, batches, val_batches, nb_epoch=1):\n",
    "    model.fit_generator(batches, samples_per_epoch=batches.nb_sample, nb_epoch=nb_epoch,\n",
    "            validation_data=val_batches, nb_val_samples=val_batches.nb_sample)\n",
    "    return model"
   ]
  },
  {
   "cell_type": "code",
   "execution_count": 6,
   "metadata": {},
   "outputs": [],
   "source": [
    "def VGGModel():\n",
    "    model= Sequential()\n",
    "    model.add(Lambda(preprocess, input_shape=(3,224,224)))\n",
    "    ConvBlock(64, model, 2)\n",
    "    ConvBlock(128, model, 2)\n",
    "    ConvBlock(256, model, 3)\n",
    "    ConvBlock(512, model, 3)\n",
    "    ConvBlock(512, model, 3)\n",
    "    \n",
    "    model.add(Flatten())\n",
    "    FullyConnectedLayer(model)\n",
    "    FullyConnectedLayer(model)\n",
    "    model.add(Dense(1000, activation='softmax'))\n",
    "    return model\n",
    "    "
   ]
  },
  {
   "cell_type": "code",
   "execution_count": 7,
   "metadata": {},
   "outputs": [],
   "source": [
    "batch_size = 32\n",
    "def get_batches(dirname, gen=image.ImageDataGenerator(), shuffle=True, \n",
    "                batch_size=batch_size, class_mode='categorical'):\n",
    "    print path+dirname\n",
    "    return gen.flow_from_directory(path+dirname, target_size=(224,224), \n",
    "                class_mode=class_mode, shuffle=shuffle, batch_size=batch_size)"
   ]
  },
  {
   "cell_type": "code",
   "execution_count": 8,
   "metadata": {},
   "outputs": [],
   "source": [
    "path = '../../data/redux/'"
   ]
  },
  {
   "cell_type": "code",
   "execution_count": 9,
   "metadata": {},
   "outputs": [],
   "source": [
    "FILES_PATH = 'http://files.fast.ai/models/'; CLASS_FILE='imagenet_class_index.json'\n",
    "# Keras' get_file() is a handy function that downloads files, and caches them for re-use later\n",
    "fpath = get_file(CLASS_FILE, FILES_PATH+CLASS_FILE, cache_subdir='models')\n",
    "with open(fpath) as f: class_dict = json.load(f)\n",
    "# Convert dictionary with string indexes into an array\n",
    "classes = [class_dict[str(i)][1] for i in range(len(class_dict))]"
   ]
  },
  {
   "cell_type": "code",
   "execution_count": 10,
   "metadata": {},
   "outputs": [
    {
     "name": "stderr",
     "output_type": "stream",
     "text": [
      "/home/paperspace/anaconda2/lib/python2.7/site-packages/keras/layers/core.py:622: UserWarning: `output_shape` argument not specified for layer lambda_1 and cannot be automatically inferred with the Theano backend. Defaulting to output shape `(None, 3, 224, 224)` (same as input shape). If the expected output shape is different, specify it via the `output_shape` argument.\n",
      "  .format(self.name, input_shape))\n"
     ]
    }
   ],
   "source": [
    "model = VGGModel()"
   ]
  },
  {
   "cell_type": "code",
   "execution_count": 11,
   "metadata": {},
   "outputs": [],
   "source": [
    "model_weight = get_file('vgg16.h5', FILES_PATH+'vgg16.h5', cache_subdir='models')\n",
    "model.load_weights(model_weight)"
   ]
  },
  {
   "cell_type": "code",
   "execution_count": 12,
   "metadata": {},
   "outputs": [],
   "source": [
    "import utils; reload(utils)\n",
    "from utils import plots"
   ]
  },
  {
   "cell_type": "code",
   "execution_count": 14,
   "metadata": {},
   "outputs": [
    {
     "name": "stdout",
     "output_type": "stream",
     "text": [
      "../../data/redux/train\n",
      "Found 23000 images belonging to 2 classes.\n",
      "../../data/redux/valid\n",
      "Found 2000 images belonging to 2 classes.\n"
     ]
    }
   ],
   "source": [
    "train_batches = get_batches('train', batch_size=batch_size)\n",
    "# print train_batches.filenames\n",
    "val_batches = get_batches('valid', batch_size=batch_size)"
   ]
  },
  {
   "cell_type": "code",
   "execution_count": 15,
   "metadata": {},
   "outputs": [
    {
     "data": {
      "image/png": "[encoded data removed]",
      "text/plain": [
       "<matplotlib.figure.Figure at 0x7f1c48392850>"
      ]
     },
     "metadata": {},
     "output_type": "display_data"
    }
   ],
   "source": [
    "images, labels = next(train_batches)\n",
    "plots(images, titles=labels)"
   ]
  },
  {
   "cell_type": "code",
   "execution_count": 16,
   "metadata": {},
   "outputs": [
    {
     "data": {
      "text/plain": [
       "keras.models.Sequential"
      ]
     },
     "execution_count": 16,
     "metadata": {},
     "output_type": "execute_result"
    }
   ],
   "source": [
    "model, classes = finetune(model, train_batches)\n",
    "type(model)"
   ]
  },
  {
   "cell_type": "code",
   "execution_count": 17,
   "metadata": {},
   "outputs": [
    {
     "name": "stdout",
     "output_type": "stream",
     "text": [
      "Epoch 1/1\n",
      "23000/23000 [==============================] - 537s - loss: 0.1325 - acc: 0.9699 - val_loss: 0.0792 - val_acc: 0.9850\n"
     ]
    }
   ],
   "source": [
    "model = fit(model, train_batches, val_batches, nb_epoch=1)"
   ]
  },
  {
   "cell_type": "code",
   "execution_count": 18,
   "metadata": {},
   "outputs": [
    {
     "data": {
      "text/plain": [
       "keras.models.Sequential"
      ]
     },
     "execution_count": 18,
     "metadata": {},
     "output_type": "execute_result"
    }
   ],
   "source": [
    "type(model)"
   ]
  },
  {
   "cell_type": "code",
   "execution_count": 19,
   "metadata": {},
   "outputs": [
    {
     "name": "stdout",
     "output_type": "stream",
     "text": [
      "../../data/redux/test\n",
      "32\n",
      "../../data/redux/test\n",
      "Found 12500 images belonging to 1 classes.\n"
     ]
    },
    {
     "data": {
      "text/plain": [
       "12500"
      ]
     },
     "execution_count": 19,
     "metadata": {},
     "output_type": "execute_result"
    }
   ],
   "source": [
    "print path+'test'\n",
    "print batch_size\n",
    "test_batches = get_batches('test', shuffle=False, batch_size=32, class_mode=None)\n",
    "test_images = next(test_batches)\n",
    "test_batches.nb_sample"
   ]
  },
  {
   "cell_type": "code",
   "execution_count": 20,
   "metadata": {},
   "outputs": [],
   "source": [
    "def pred_batch(model, imgs):\n",
    "    preds = model.predict(imgs)\n",
    "    idxs = np.argmax(preds, axis=1)\n",
    "\n",
    "    print('Shape: {}'.format(preds.shape))\n",
    "    print('First 5 classes: {}'.format(classes))\n",
    "    print('First 5 probabilities: {}\\n'.format(preds))\n",
    "    print('Predictions prob/class: ')\n",
    "    \n",
    "    for i in range(len(idxs)):\n",
    "        idx = idxs[i]\n",
    "        print ('  {:.4f}/{}'.format(preds[i, idx], classes[idx]))"
   ]
  },
  {
   "cell_type": "code",
   "execution_count": 21,
   "metadata": {},
   "outputs": [],
   "source": [
    "def pred_generator(model, test_batches):\n",
    "    preds = model.predict_generator(test_batches, test_batches.nb_sample)\n",
    "    idxs = np.argmax(preds, axis=1)\n",
    "    prob = preds[:,1]\n",
    "    print preds[:10]\n",
    "    print idxs[:10]\n",
    "    print prob[:10]\n",
    "    return prob"
   ]
  },
  {
   "cell_type": "code",
   "execution_count": 22,
   "metadata": {},
   "outputs": [
    {
     "data": {
      "text/plain": [
       "[828, 10093, 2205, 11812, 4042, 6038, 9620, 2297, 7548, 4079]"
      ]
     },
     "execution_count": 22,
     "metadata": {},
     "output_type": "execute_result"
    }
   ],
   "source": [
    "filenames = list(test_batches.filenames)\n",
    "filenames = [os.path.basename(i).replace('.jpg', '') for i in filenames]\n",
    "filenames = map(int, filenames)\n",
    "filenames[:10]"
   ]
  },
  {
   "cell_type": "code",
   "execution_count": 23,
   "metadata": {},
   "outputs": [
    {
     "name": "stdout",
     "output_type": "stream",
     "text": [
      "[[  2.8245e-11   1.0000e+00]\n",
      " [  8.4789e-10   1.0000e+00]\n",
      " [  1.0000e+00   1.5185e-10]\n",
      " [  1.0000e+00   1.6681e-11]\n",
      " [  1.0000e+00   1.3294e-16]\n",
      " [  1.0000e+00   1.0562e-13]\n",
      " [  1.0000e+00   4.1475e-06]\n",
      " [  3.7636e-07   1.0000e+00]\n",
      " [  1.2280e-11   1.0000e+00]\n",
      " [  1.8874e-12   1.0000e+00]]\n",
      "[1 1 0 0 0 0 0 1 1 1]\n",
      "[  1.0000e+00   1.0000e+00   1.5185e-10   1.6681e-11   1.3294e-16   1.0562e-13   4.1475e-06\n",
      "   1.0000e+00   1.0000e+00   1.0000e+00]\n"
     ]
    }
   ],
   "source": [
    "# prediction = model.predict_generator(test_batches, test_batches.nb_sample)\n",
    "prob = pred_generator(model, test_batches)"
   ]
  },
  {
   "cell_type": "code",
   "execution_count": null,
   "metadata": {},
   "outputs": [],
   "source": [
    "prob.shape\n",
    "# print list(prob)\n",
    "# prob_ = prob.reshape(1,12500)\n",
    "# prob_.shape\n",
    "# print type(prob)"
   ]
  },
  {
   "cell_type": "code",
   "execution_count": null,
   "metadata": {},
   "outputs": [],
   "source": [
    "# model.summary()"
   ]
  },
  {
   "cell_type": "code",
   "execution_count": 27,
   "metadata": {},
   "outputs": [
    {
     "name": "stdout",
     "output_type": "stream",
     "text": [
      "(12500, 2)\n",
      "      id         label\n",
      "0    828  1.000000e+00\n",
      "1  10093  1.000000e+00\n",
      "2   2205  1.518474e-10\n",
      "3  11812  1.668121e-11\n",
      "4   4042  1.329421e-16\n",
      "5   6038  1.056189e-13\n",
      "6   9620  4.147532e-06\n",
      "7   2297  9.999996e-01\n",
      "8   7548  1.000000e+00\n",
      "9   4079  1.000000e+00\n"
     ]
    }
   ],
   "source": [
    "submission_df = pd.DataFrame({'id':filenames, 'label':list(prob)})\n",
    "print submission_df.shape\n",
    "print submission_df.head(10)\n",
    "submission_df.to_csv(\"submission.csv\", index=False)"
   ]
  },
  {
   "cell_type": "code",
   "execution_count": null,
   "metadata": {
    "scrolled": true
   },
   "outputs": [],
   "source": [
    "# pred_batch(model, test_images)"
   ]
  },
  {
   "cell_type": "code",
   "execution_count": null,
   "metadata": {},
   "outputs": [],
   "source": []
  }
 ],
 "metadata": {
  "kernelspec": {
   "display_name": "Python [default]",
   "language": "python",
   "name": "python2"
  },
  "language_info": {
   "codemirror_mode": {
    "name": "ipython",
    "version": 2
   },
   "file_extension": ".py",
   "mimetype": "text/x-python",
   "name": "python",
   "nbconvert_exporter": "python",
   "pygments_lexer": "ipython2",
   "version": "2.7.14"
  }
 },
 "nbformat": 4,
 "nbformat_minor": 2
}
